{
 "cells": [
  {
   "cell_type": "code",
   "id": "initial_id",
   "metadata": {
    "collapsed": true,
    "ExecuteTime": {
     "end_time": "2024-06-01T02:52:44.255297Z",
     "start_time": "2024-06-01T02:52:44.099956Z"
    }
   },
   "source": [
    "import sklearn\n",
    "sklearn.__version__"
   ],
   "execution_count": 1,
   "outputs": []
  },
  {
   "metadata": {},
   "cell_type": "markdown",
   "source": "# ",
   "id": "b2d3ffd9c0f6f6ba"
  },
  {
   "metadata": {},
   "cell_type": "markdown",
   "source": "# Preprocessing",
   "id": "c3ebc4dc5b1334f0"
  },
  {
   "metadata": {},
   "cell_type": "markdown",
   "source": "## Ordinal Encoding",
   "id": "89179615bca98e49"
  },
  {
   "metadata": {
    "ExecuteTime": {
     "end_time": "2024-06-01T02:52:44.301393Z",
     "start_time": "2024-06-01T02:52:44.261297Z"
    }
   },
   "cell_type": "code",
   "source": "from sklearn.preprocessing import OrdinalEncoder",
   "id": "763926437f1dbede",
   "execution_count": 2,
   "outputs": []
  },
  {
   "metadata": {
    "ExecuteTime": {
     "end_time": "2024-06-01T02:52:44.332912Z",
     "start_time": "2024-06-01T02:52:44.323911Z"
    }
   },
   "cell_type": "code",
   "source": "encoder = OrdinalEncoder()",
   "id": "33b9adbe069a148b",
   "execution_count": 3,
   "outputs": []
  },
  {
   "metadata": {
    "ExecuteTime": {
     "end_time": "2024-06-01T02:52:44.550599Z",
     "start_time": "2024-06-01T02:52:44.536599Z"
    }
   },
   "cell_type": "code",
   "source": "X = [['B'], ['A'], ['C'], ['D']]",
   "id": "6dfe7b9d68b8d817",
   "execution_count": 4,
   "outputs": []
  },
  {
   "metadata": {
    "ExecuteTime": {
     "end_time": "2024-06-01T02:52:44.750636Z",
     "start_time": "2024-06-01T02:52:44.735637Z"
    }
   },
   "cell_type": "code",
   "source": "encoder.fit(X)",
   "id": "319caf004d42a68d",
   "execution_count": 5,
   "outputs": []
  },
  {
   "metadata": {
    "ExecuteTime": {
     "end_time": "2024-06-01T02:52:44.891753Z",
     "start_time": "2024-06-01T02:52:44.882753Z"
    }
   },
   "cell_type": "code",
   "source": "X_ = encoder.transform(X)",
   "id": "390d6eeec109f841",
   "execution_count": 6,
   "outputs": []
  },
  {
   "metadata": {
    "ExecuteTime": {
     "end_time": "2024-06-01T02:52:45.107048Z",
     "start_time": "2024-06-01T02:52:45.091045Z"
    }
   },
   "cell_type": "code",
   "source": "X_",
   "id": "95ba55976b52137c",
   "execution_count": 7,
   "outputs": []
  },
  {
   "metadata": {
    "ExecuteTime": {
     "end_time": "2024-06-01T02:52:45.309044Z",
     "start_time": "2024-06-01T02:52:45.295045Z"
    }
   },
   "cell_type": "code",
   "source": "encoder.categories_",
   "id": "4a7dbd5e7cc10380",
   "execution_count": 8,
   "outputs": []
  },
  {
   "metadata": {
    "ExecuteTime": {
     "end_time": "2024-06-01T02:52:45.524660Z",
     "start_time": "2024-06-01T02:52:45.513432Z"
    }
   },
   "cell_type": "code",
   "source": "X = [['A', 10], ['B', 9.5], ['C', 8], ['D', 16]]",
   "id": "1a14d383b59c945d",
   "execution_count": 9,
   "outputs": []
  },
  {
   "metadata": {
    "ExecuteTime": {
     "end_time": "2024-06-01T02:52:45.849563Z",
     "start_time": "2024-06-01T02:52:45.836564Z"
    }
   },
   "cell_type": "code",
   "source": "encoder.fit(X)",
   "id": "fae6d22e2d346711",
   "execution_count": 10,
   "outputs": []
  },
  {
   "metadata": {
    "ExecuteTime": {
     "end_time": "2024-06-01T02:52:45.990479Z",
     "start_time": "2024-06-01T02:52:45.978481Z"
    }
   },
   "cell_type": "code",
   "source": "X_ = encoder.transform(X)",
   "id": "cd7a258d24ec6cfa",
   "execution_count": 11,
   "outputs": []
  },
  {
   "metadata": {
    "ExecuteTime": {
     "end_time": "2024-06-01T02:52:46.176718Z",
     "start_time": "2024-06-01T02:52:46.165719Z"
    }
   },
   "cell_type": "code",
   "source": "X_",
   "id": "b14ac00d95b99f0f",
   "execution_count": 12,
   "outputs": []
  },
  {
   "metadata": {
    "ExecuteTime": {
     "end_time": "2024-06-01T02:52:46.314242Z",
     "start_time": "2024-06-01T02:52:46.307244Z"
    }
   },
   "cell_type": "code",
   "source": "encoder.categories_",
   "id": "9890317c96a12e1b",
   "execution_count": 13,
   "outputs": []
  },
  {
   "metadata": {
    "ExecuteTime": {
     "end_time": "2024-06-01T02:52:46.483575Z",
     "start_time": "2024-06-01T02:52:46.466573Z"
    }
   },
   "cell_type": "code",
   "source": "encoder.inverse_transform(X_)",
   "id": "8777309298260931",
   "execution_count": 14,
   "outputs": []
  },
  {
   "metadata": {},
   "cell_type": "markdown",
   "source": "# Label Encoder",
   "id": "92645c2d67d25578"
  },
  {
   "metadata": {
    "ExecuteTime": {
     "end_time": "2024-06-01T02:52:46.609630Z",
     "start_time": "2024-06-01T02:52:46.599632Z"
    }
   },
   "cell_type": "code",
   "source": "from sklearn.preprocessing import LabelEncoder",
   "id": "26788f8e11f3b3b4",
   "execution_count": 15,
   "outputs": []
  },
  {
   "metadata": {
    "ExecuteTime": {
     "end_time": "2024-06-01T02:52:46.856122Z",
     "start_time": "2024-06-01T02:52:46.850121Z"
    }
   },
   "cell_type": "code",
   "source": "encoder = LabelEncoder()",
   "id": "31d6cb0261d5ea22",
   "execution_count": 16,
   "outputs": []
  },
  {
   "metadata": {
    "ExecuteTime": {
     "end_time": "2024-06-01T02:52:46.981303Z",
     "start_time": "2024-06-01T02:52:46.971303Z"
    }
   },
   "cell_type": "code",
   "source": "Y = ['bat', 'ant', 'cat', 'dog', 'ant']",
   "id": "c7ca77ddbc7f4d28",
   "execution_count": 17,
   "outputs": []
  },
  {
   "metadata": {
    "ExecuteTime": {
     "end_time": "2024-06-01T02:52:47.196180Z",
     "start_time": "2024-06-01T02:52:47.184185Z"
    }
   },
   "cell_type": "code",
   "source": "encoder.fit(Y)",
   "id": "c0312cec31ad7b91",
   "execution_count": 18,
   "outputs": []
  },
  {
   "metadata": {
    "ExecuteTime": {
     "end_time": "2024-06-01T02:52:47.276271Z",
     "start_time": "2024-06-01T02:52:47.258271Z"
    }
   },
   "cell_type": "code",
   "source": "Y_ = encoder.transform(Y)",
   "id": "d30a97aa1fcd1a16",
   "execution_count": 19,
   "outputs": []
  },
  {
   "metadata": {
    "ExecuteTime": {
     "end_time": "2024-06-01T02:52:47.508635Z",
     "start_time": "2024-06-01T02:52:47.496635Z"
    }
   },
   "cell_type": "code",
   "source": "Y_",
   "id": "61d6df5d204fbbef",
   "execution_count": 20,
   "outputs": []
  },
  {
   "metadata": {
    "ExecuteTime": {
     "end_time": "2024-06-01T02:52:47.690830Z",
     "start_time": "2024-06-01T02:52:47.672831Z"
    }
   },
   "cell_type": "code",
   "source": "encoder.classes_",
   "id": "3ecc0a5ddf36d574",
   "execution_count": 21,
   "outputs": []
  },
  {
   "metadata": {
    "ExecuteTime": {
     "end_time": "2024-06-01T02:52:47.922685Z",
     "start_time": "2024-06-01T02:52:47.899685Z"
    }
   },
   "cell_type": "code",
   "source": "encoder.inverse_transform(Y_)",
   "id": "f879dd3206e5c5f",
   "execution_count": 22,
   "outputs": []
  },
  {
   "metadata": {},
   "cell_type": "markdown",
   "source": "# One-hot Encoding",
   "id": "bf2ba474cf9d1d87"
  },
  {
   "metadata": {
    "ExecuteTime": {
     "end_time": "2024-06-01T02:52:48.049930Z",
     "start_time": "2024-06-01T02:52:48.036701Z"
    }
   },
   "cell_type": "code",
   "source": "from sklearn.preprocessing import OneHotEncoder",
   "id": "74f9688f885d10e",
   "execution_count": 23,
   "outputs": []
  },
  {
   "metadata": {
    "ExecuteTime": {
     "end_time": "2024-06-01T02:52:48.313847Z",
     "start_time": "2024-06-01T02:52:48.301846Z"
    }
   },
   "cell_type": "code",
   "source": "encoder = OneHotEncoder()",
   "id": "326ec09700532ef2",
   "execution_count": 24,
   "outputs": []
  },
  {
   "metadata": {
    "ExecuteTime": {
     "end_time": "2024-06-01T02:52:48.513950Z",
     "start_time": "2024-06-01T02:52:48.506949Z"
    }
   },
   "cell_type": "code",
   "source": "X = [['ant'], ['bat'], ['cat'], ['bat'], ['ant'], ['cat']]",
   "id": "346eee7dec2103c0",
   "execution_count": 25,
   "outputs": []
  },
  {
   "metadata": {
    "ExecuteTime": {
     "end_time": "2024-06-01T02:52:48.668029Z",
     "start_time": "2024-06-01T02:52:48.658029Z"
    }
   },
   "cell_type": "code",
   "source": "encoder.fit(X)",
   "id": "cd3cb1c133243516",
   "execution_count": 26,
   "outputs": []
  },
  {
   "metadata": {
    "ExecuteTime": {
     "end_time": "2024-06-01T02:52:48.853124Z",
     "start_time": "2024-06-01T02:52:48.834699Z"
    }
   },
   "cell_type": "code",
   "source": "X_ = encoder.transform(X)",
   "id": "5f9412a5f313efe1",
   "execution_count": 27,
   "outputs": []
  },
  {
   "metadata": {
    "ExecuteTime": {
     "end_time": "2024-06-01T02:52:49.007789Z",
     "start_time": "2024-06-01T02:52:48.994785Z"
    }
   },
   "cell_type": "code",
   "source": "X_",
   "id": "e3edcab61ba0cf7b",
   "execution_count": 28,
   "outputs": []
  },
  {
   "metadata": {
    "ExecuteTime": {
     "end_time": "2024-06-01T02:52:49.241787Z",
     "start_time": "2024-06-01T02:52:49.223787Z"
    }
   },
   "cell_type": "code",
   "source": "X_.todense()",
   "id": "8fef7432ddd9c8ae",
   "execution_count": 29,
   "outputs": []
  },
  {
   "metadata": {
    "ExecuteTime": {
     "end_time": "2024-06-01T02:52:49.608306Z",
     "start_time": "2024-06-01T02:52:49.587307Z"
    }
   },
   "cell_type": "code",
   "source": "encoder.categories_",
   "id": "161749f26596d04c",
   "execution_count": 30,
   "outputs": []
  },
  {
   "metadata": {
    "ExecuteTime": {
     "end_time": "2024-06-01T02:52:49.764828Z",
     "start_time": "2024-06-01T02:52:49.749827Z"
    }
   },
   "cell_type": "code",
   "source": "encoder.inverse_transform(X_)",
   "id": "10c17a0dfa79e7ad",
   "execution_count": 31,
   "outputs": []
  },
  {
   "metadata": {
    "ExecuteTime": {
     "end_time": "2024-06-01T02:52:50.085823Z",
     "start_time": "2024-06-01T02:52:50.070825Z"
    }
   },
   "cell_type": "code",
   "source": "import pandas as pd",
   "id": "4c93a68dd0bfc493",
   "execution_count": 32,
   "outputs": []
  },
  {
   "metadata": {
    "ExecuteTime": {
     "end_time": "2024-06-01T02:52:50.348824Z",
     "start_time": "2024-06-01T02:52:50.337825Z"
    }
   },
   "cell_type": "code",
   "source": "df = pd.DataFrame(X, columns=['animal'])",
   "id": "7bece1382455c992",
   "execution_count": 33,
   "outputs": []
  },
  {
   "metadata": {
    "ExecuteTime": {
     "end_time": "2024-06-01T02:52:50.550823Z",
     "start_time": "2024-06-01T02:52:50.533825Z"
    }
   },
   "cell_type": "code",
   "source": "df",
   "id": "39579a306af939b3",
   "execution_count": 34,
   "outputs": []
  },
  {
   "metadata": {
    "ExecuteTime": {
     "end_time": "2024-06-01T02:52:50.735341Z",
     "start_time": "2024-06-01T02:52:50.708340Z"
    }
   },
   "cell_type": "code",
   "source": "pd.get_dummies(df)",
   "id": "ebd608c3791676a9",
   "execution_count": 35,
   "outputs": []
  },
  {
   "metadata": {
    "ExecuteTime": {
     "end_time": "2024-06-01T02:52:50.846861Z",
     "start_time": "2024-06-01T02:52:50.832863Z"
    }
   },
   "cell_type": "code",
   "source": "pd.get_dummies(df, dtype=int)",
   "id": "d7a846e232892907",
   "execution_count": 36,
   "outputs": []
  },
  {
   "metadata": {
    "ExecuteTime": {
     "end_time": "2024-06-01T02:52:51.060381Z",
     "start_time": "2024-06-01T02:52:51.052379Z"
    }
   },
   "cell_type": "code",
   "source": "df = pd.DataFrame([['male'], ['female'], ['female'], ['male']], columns=['gender'])",
   "id": "ec8036c81f26309c",
   "execution_count": 37,
   "outputs": []
  },
  {
   "metadata": {
    "ExecuteTime": {
     "end_time": "2024-06-01T02:52:51.387900Z",
     "start_time": "2024-06-01T02:52:51.369905Z"
    }
   },
   "cell_type": "code",
   "source": "df_ = pd.get_dummies(df, dtype=int)",
   "id": "1871798bfdb4ae34",
   "execution_count": 38,
   "outputs": []
  },
  {
   "metadata": {
    "ExecuteTime": {
     "end_time": "2024-06-01T02:52:51.789904Z",
     "start_time": "2024-06-01T02:52:51.772901Z"
    }
   },
   "cell_type": "code",
   "source": "df_.columns",
   "id": "d8969d377001558",
   "execution_count": 39,
   "outputs": []
  },
  {
   "metadata": {
    "ExecuteTime": {
     "end_time": "2024-06-01T02:52:52.081902Z",
     "start_time": "2024-06-01T02:52:52.069903Z"
    }
   },
   "cell_type": "code",
   "source": "df_.drop(columns=df_.columns[0])",
   "id": "7cd105fab0f7cbd9",
   "execution_count": 40,
   "outputs": []
  },
  {
   "metadata": {},
   "cell_type": "markdown",
   "source": "# MultiLabel Binarizer",
   "id": "caa6fdf84bb7c054"
  },
  {
   "metadata": {
    "ExecuteTime": {
     "end_time": "2024-06-01T02:52:52.282431Z",
     "start_time": "2024-06-01T02:52:52.263433Z"
    }
   },
   "cell_type": "code",
   "source": "from sklearn.preprocessing import MultiLabelBinarizer",
   "id": "7b3ac081409f0d61",
   "execution_count": 41,
   "outputs": []
  },
  {
   "metadata": {
    "ExecuteTime": {
     "end_time": "2024-06-01T02:52:52.579962Z",
     "start_time": "2024-06-01T02:52:52.574963Z"
    }
   },
   "cell_type": "code",
   "source": "encoder = MultiLabelBinarizer()",
   "id": "7c9a3ff0f59cba73",
   "execution_count": 42,
   "outputs": []
  },
  {
   "metadata": {
    "ExecuteTime": {
     "end_time": "2024-06-01T02:52:52.875989Z",
     "start_time": "2024-06-01T02:52:52.854990Z"
    }
   },
   "cell_type": "code",
   "source": [
    "X = [['sci-fi', 'comedy'], \n",
    "     ['comedy'], \n",
    "     ['drama', 'romance'],  \n",
    "     ['sci-fi', 'drama', 'action']]"
   ],
   "id": "4ab8af9c71155da8",
   "execution_count": 43,
   "outputs": []
  },
  {
   "metadata": {
    "ExecuteTime": {
     "end_time": "2024-06-01T02:52:53.140978Z",
     "start_time": "2024-06-01T02:52:53.114978Z"
    }
   },
   "cell_type": "code",
   "source": "encoder.fit(X)",
   "id": "ea56772fa9d1b6f5",
   "execution_count": 44,
   "outputs": []
  },
  {
   "metadata": {
    "ExecuteTime": {
     "end_time": "2024-06-01T02:52:53.278609Z",
     "start_time": "2024-06-01T02:52:53.265611Z"
    }
   },
   "cell_type": "code",
   "source": "X_ = encoder.transform(X)",
   "id": "5f14e7f839811b3e",
   "execution_count": 45,
   "outputs": []
  },
  {
   "metadata": {
    "ExecuteTime": {
     "end_time": "2024-06-01T02:52:53.465893Z",
     "start_time": "2024-06-01T02:52:53.449786Z"
    }
   },
   "cell_type": "code",
   "source": "X_",
   "id": "faa34f364580d809",
   "execution_count": 46,
   "outputs": []
  },
  {
   "metadata": {
    "ExecuteTime": {
     "end_time": "2024-06-01T02:52:53.713888Z",
     "start_time": "2024-06-01T02:52:53.700888Z"
    }
   },
   "cell_type": "code",
   "source": "encoder.inverse_transform(X_)",
   "id": "23b82c4cbd6b8cdb",
   "execution_count": 47,
   "outputs": []
  },
  {
   "metadata": {
    "ExecuteTime": {
     "end_time": "2024-06-01T02:52:53.881523Z",
     "start_time": "2024-06-01T02:52:53.868470Z"
    }
   },
   "cell_type": "code",
   "source": "encoder.classes_",
   "id": "3d8fd4d7f0f51c6f",
   "execution_count": 48,
   "outputs": []
  },
  {
   "metadata": {},
   "cell_type": "markdown",
   "source": "# K Bins Discretizer",
   "id": "8319d55f27b66571"
  },
  {
   "metadata": {
    "ExecuteTime": {
     "end_time": "2024-06-01T02:52:54.065781Z",
     "start_time": "2024-06-01T02:52:54.052782Z"
    }
   },
   "cell_type": "code",
   "source": "from sklearn.preprocessing import KBinsDiscretizer",
   "id": "ec3838131d5d6180",
   "execution_count": 49,
   "outputs": []
  },
  {
   "metadata": {
    "ExecuteTime": {
     "end_time": "2024-06-01T02:52:54.234429Z",
     "start_time": "2024-06-01T02:52:54.226427Z"
    }
   },
   "cell_type": "code",
   "source": "X = [[10], [11], [12], [16], [21], [22], [35]]",
   "id": "e4549e64f6d5c3c6",
   "execution_count": 50,
   "outputs": []
  },
  {
   "metadata": {
    "ExecuteTime": {
     "end_time": "2024-06-01T02:52:54.481866Z",
     "start_time": "2024-06-01T02:52:54.473864Z"
    }
   },
   "cell_type": "code",
   "source": "encoder = KBinsDiscretizer(n_bins=3)",
   "id": "c91f2cc9a57088ca",
   "execution_count": 51,
   "outputs": []
  },
  {
   "metadata": {
    "ExecuteTime": {
     "end_time": "2024-06-01T02:52:54.635150Z",
     "start_time": "2024-06-01T02:52:54.615148Z"
    }
   },
   "cell_type": "code",
   "source": "encoder.fit(X)",
   "id": "a79191336cdd9b64",
   "execution_count": 52,
   "outputs": []
  },
  {
   "metadata": {
    "ExecuteTime": {
     "end_time": "2024-06-01T02:52:54.743722Z",
     "start_time": "2024-06-01T02:52:54.735722Z"
    }
   },
   "cell_type": "code",
   "source": "X_ = encoder.transform(X)",
   "id": "861224178ade80cd",
   "execution_count": 53,
   "outputs": []
  },
  {
   "metadata": {
    "ExecuteTime": {
     "end_time": "2024-06-01T02:52:54.866398Z",
     "start_time": "2024-06-01T02:52:54.848397Z"
    }
   },
   "cell_type": "code",
   "source": "X_",
   "id": "bf723ef289586429",
   "execution_count": 54,
   "outputs": []
  },
  {
   "metadata": {
    "ExecuteTime": {
     "end_time": "2024-06-01T02:52:55.034593Z",
     "start_time": "2024-06-01T02:52:55.027593Z"
    }
   },
   "cell_type": "code",
   "source": "X_.todense()",
   "id": "cb3df9f72ee16cd",
   "execution_count": 55,
   "outputs": []
  },
  {
   "metadata": {
    "ExecuteTime": {
     "end_time": "2024-06-01T02:52:55.188542Z",
     "start_time": "2024-06-01T02:52:55.172542Z"
    }
   },
   "cell_type": "code",
   "source": "encoder.bin_edges_",
   "id": "71508e8cae71316d",
   "execution_count": 56,
   "outputs": []
  },
  {
   "metadata": {
    "ExecuteTime": {
     "end_time": "2024-06-01T02:52:55.328535Z",
     "start_time": "2024-06-01T02:52:55.318533Z"
    }
   },
   "cell_type": "code",
   "source": "encoder.inverse_transform(X_)",
   "id": "2d0707d614c271e3",
   "execution_count": 57,
   "outputs": []
  },
  {
   "metadata": {
    "ExecuteTime": {
     "end_time": "2024-06-01T02:52:55.466988Z",
     "start_time": "2024-06-01T02:52:55.459986Z"
    }
   },
   "cell_type": "code",
   "source": "encoder = KBinsDiscretizer(n_bins=3, encode='ordinal', strategy='quantile')",
   "id": "f57440e35d3d2337",
   "execution_count": 58,
   "outputs": []
  },
  {
   "metadata": {
    "ExecuteTime": {
     "end_time": "2024-06-01T02:52:55.668968Z",
     "start_time": "2024-06-01T02:52:55.657968Z"
    }
   },
   "cell_type": "code",
   "source": "encoder.fit_transform(X)",
   "id": "3c33752a90f2b631",
   "execution_count": 59,
   "outputs": []
  },
  {
   "metadata": {
    "ExecuteTime": {
     "end_time": "2024-06-01T02:52:55.855364Z",
     "start_time": "2024-06-01T02:52:55.842363Z"
    }
   },
   "cell_type": "code",
   "source": "encoder = KBinsDiscretizer(n_bins=3, encode='ordinal', strategy='uniform')",
   "id": "a7bceebdaf5a3581",
   "execution_count": 60,
   "outputs": []
  },
  {
   "metadata": {
    "ExecuteTime": {
     "end_time": "2024-06-01T02:52:56.008786Z",
     "start_time": "2024-06-01T02:52:55.984785Z"
    }
   },
   "cell_type": "code",
   "source": "encoder.fit_transform(X)",
   "id": "5c4a6aabb3022cea",
   "execution_count": 61,
   "outputs": []
  },
  {
   "metadata": {},
   "cell_type": "markdown",
   "source": "# MinMax Scaler",
   "id": "43a28b305d882dca"
  },
  {
   "metadata": {
    "ExecuteTime": {
     "end_time": "2024-06-01T02:52:56.147019Z",
     "start_time": "2024-06-01T02:52:56.133022Z"
    }
   },
   "cell_type": "code",
   "source": "from sklearn.preprocessing import MinMaxScaler",
   "id": "84094426a99caa3a",
   "execution_count": 62,
   "outputs": []
  },
  {
   "metadata": {
    "ExecuteTime": {
     "end_time": "2024-06-01T02:52:56.350607Z",
     "start_time": "2024-06-01T02:52:56.337458Z"
    }
   },
   "cell_type": "code",
   "source": "X = [[1], [2], [3.9], [4], [5]]",
   "id": "2e6b4b308dd4d5bb",
   "execution_count": 63,
   "outputs": []
  },
  {
   "metadata": {
    "ExecuteTime": {
     "end_time": "2024-06-01T02:52:56.635008Z",
     "start_time": "2024-06-01T02:52:56.622007Z"
    }
   },
   "cell_type": "code",
   "source": "scaler = MinMaxScaler()",
   "id": "858df5e9f3edd527",
   "execution_count": 64,
   "outputs": []
  },
  {
   "metadata": {
    "ExecuteTime": {
     "end_time": "2024-06-01T02:52:56.774009Z",
     "start_time": "2024-06-01T02:52:56.755006Z"
    }
   },
   "cell_type": "code",
   "source": "scaler.fit(X)",
   "id": "dab3b4dc445670f8",
   "execution_count": 65,
   "outputs": []
  },
  {
   "metadata": {
    "ExecuteTime": {
     "end_time": "2024-06-01T02:52:56.987011Z",
     "start_time": "2024-06-01T02:52:56.965007Z"
    }
   },
   "cell_type": "code",
   "source": "X_ = scaler.transform(X)",
   "id": "8156d1dc18b88f33",
   "execution_count": 66,
   "outputs": []
  },
  {
   "metadata": {
    "ExecuteTime": {
     "end_time": "2024-06-01T02:52:57.230007Z",
     "start_time": "2024-06-01T02:52:57.219006Z"
    }
   },
   "cell_type": "code",
   "source": "X_",
   "id": "b99ce61986f11212",
   "execution_count": 67,
   "outputs": []
  },
  {
   "metadata": {
    "ExecuteTime": {
     "end_time": "2024-06-01T02:52:57.353008Z",
     "start_time": "2024-06-01T02:52:57.341008Z"
    }
   },
   "cell_type": "code",
   "source": "scaler.inverse_transform(X_)",
   "id": "c7cdec22fc88cb38",
   "execution_count": 68,
   "outputs": []
  },
  {
   "metadata": {},
   "cell_type": "markdown",
   "source": "# Normalization",
   "id": "2292715804b77754"
  },
  {
   "metadata": {
    "ExecuteTime": {
     "end_time": "2024-06-01T02:52:57.552007Z",
     "start_time": "2024-06-01T02:52:57.542008Z"
    }
   },
   "cell_type": "code",
   "source": "from sklearn.preprocessing import Normalizer",
   "id": "5994063c5e1c8c3",
   "execution_count": 69,
   "outputs": []
  },
  {
   "metadata": {
    "ExecuteTime": {
     "end_time": "2024-06-01T02:52:57.752007Z",
     "start_time": "2024-06-01T02:52:57.740007Z"
    }
   },
   "cell_type": "code",
   "source": "normalizer = Normalizer()",
   "id": "1447d7ed2f3feb0a",
   "execution_count": 70,
   "outputs": []
  },
  {
   "metadata": {
    "ExecuteTime": {
     "end_time": "2024-06-01T02:52:57.956007Z",
     "start_time": "2024-06-01T02:52:57.944008Z"
    }
   },
   "cell_type": "code",
   "source": [
    "X = [[4, 1, 2, 2],\n",
    "     [1, 3, 9, 3],\n",
    "     [5, 7, 5, 1]]"
   ],
   "id": "f35498051b1b47c1",
   "execution_count": 71,
   "outputs": []
  },
  {
   "metadata": {
    "ExecuteTime": {
     "end_time": "2024-06-01T02:52:58.063011Z",
     "start_time": "2024-06-01T02:52:58.050008Z"
    }
   },
   "cell_type": "code",
   "source": "normalizer.fit(X)",
   "id": "b525f8480d449744",
   "execution_count": 72,
   "outputs": []
  },
  {
   "metadata": {
    "ExecuteTime": {
     "end_time": "2024-06-01T02:52:58.245522Z",
     "start_time": "2024-06-01T02:52:58.234523Z"
    }
   },
   "cell_type": "code",
   "source": "X_ = normalizer.transform(X)",
   "id": "b8d3d16531a88b41",
   "execution_count": 73,
   "outputs": []
  },
  {
   "metadata": {
    "ExecuteTime": {
     "end_time": "2024-06-01T02:52:58.428521Z",
     "start_time": "2024-06-01T02:52:58.416523Z"
    }
   },
   "cell_type": "code",
   "source": "X_",
   "id": "bc13f015e338c427",
   "execution_count": 74,
   "outputs": []
  },
  {
   "metadata": {
    "ExecuteTime": {
     "end_time": "2024-06-01T02:52:59.691880Z",
     "start_time": "2024-06-01T02:52:58.567525Z"
    }
   },
   "cell_type": "code",
   "source": "normalizer.inverse_transform(X_)",
   "id": "6f34380cd6cffbbb",
   "execution_count": 75,
   "outputs": []
  },
  {
   "metadata": {
    "ExecuteTime": {
     "end_time": "2024-06-01T02:52:59.694881Z",
     "start_time": "2024-06-01T02:52:59.694881Z"
    }
   },
   "cell_type": "code",
   "source": "normalizer = Normalizer(norm='l1')",
   "id": "c4a4e31ac7526ab2",
   "execution_count": null,
   "outputs": []
  },
  {
   "metadata": {},
   "cell_type": "code",
   "source": "normalizer.fit(X)",
   "id": "27130e138bf9d083",
   "execution_count": null,
   "outputs": []
  },
  {
   "metadata": {},
   "cell_type": "code",
   "source": "X_ = normalizer.transform(X)",
   "id": "cfe48b3c3b4fada6",
   "execution_count": null,
   "outputs": []
  },
  {
   "metadata": {},
   "cell_type": "code",
   "source": "X_",
   "id": "7832ab573543a97d",
   "execution_count": null,
   "outputs": []
  },
  {
   "metadata": {},
   "cell_type": "markdown",
   "source": "# Standardization",
   "id": "9c2250d6be972046"
  },
  {
   "metadata": {},
   "cell_type": "code",
   "source": "from sklearn.preprocessing import StandardScaler",
   "id": "def3e6722907cd63",
   "execution_count": null,
   "outputs": []
  },
  {
   "metadata": {},
   "cell_type": "code",
   "source": "scaler = StandardScaler()",
   "id": "b54ba7aad2ab9f9c",
   "execution_count": null,
   "outputs": []
  },
  {
   "metadata": {},
   "cell_type": "code",
   "source": "X = [[1, 2], [2, 3], [3, 4], [4, 5]]",
   "id": "ef58b6ee59b5b31b",
   "execution_count": null,
   "outputs": []
  },
  {
   "metadata": {
    "ExecuteTime": {
     "end_time": "2024-06-01T02:52:59.737882Z",
     "start_time": "2024-06-01T02:52:59.725881Z"
    }
   },
   "cell_type": "code",
   "source": "scaler.fit(X)",
   "id": "84eeeba538134d87",
   "execution_count": 76,
   "outputs": []
  },
  {
   "metadata": {
    "ExecuteTime": {
     "end_time": "2024-06-01T02:52:59.830922Z",
     "start_time": "2024-06-01T02:52:59.811918Z"
    }
   },
   "cell_type": "code",
   "source": "X_ = scaler.transform(X)",
   "id": "47747504851e5b9",
   "execution_count": 77,
   "outputs": []
  },
  {
   "metadata": {
    "ExecuteTime": {
     "end_time": "2024-06-01T02:53:03.370036Z",
     "start_time": "2024-06-01T02:53:03.348036Z"
    }
   },
   "cell_type": "code",
   "source": "X_",
   "id": "172b57333cecead4",
   "execution_count": 78,
   "outputs": []
  },
  {
   "metadata": {
    "ExecuteTime": {
     "end_time": "2024-06-01T02:53:03.615079Z",
     "start_time": "2024-06-01T02:53:03.583080Z"
    }
   },
   "cell_type": "code",
   "source": "scaler.mean_, scaler.var_",
   "id": "c8875ad17ecc1a54",
   "execution_count": 79,
   "outputs": []
  },
  {
   "metadata": {
    "ExecuteTime": {
     "end_time": "2024-06-01T02:53:03.766146Z",
     "start_time": "2024-06-01T02:53:03.754147Z"
    }
   },
   "cell_type": "code",
   "source": "scaler.inverse_transform(X_)",
   "id": "800cdc515211a282",
   "execution_count": 80,
   "outputs": []
  },
  {
   "metadata": {},
   "cell_type": "markdown",
   "source": "# Imputation",
   "id": "1a71413aaf59e0a0"
  },
  {
   "metadata": {
    "ExecuteTime": {
     "end_time": "2024-06-01T02:53:03.966675Z",
     "start_time": "2024-06-01T02:53:03.959676Z"
    }
   },
   "cell_type": "code",
   "source": "import numpy as np",
   "id": "3cc11add5097aa41",
   "execution_count": 81,
   "outputs": []
  },
  {
   "metadata": {
    "ExecuteTime": {
     "end_time": "2024-06-01T02:53:04.120676Z",
     "start_time": "2024-06-01T02:53:04.107676Z"
    }
   },
   "cell_type": "code",
   "source": "X = [[np.nan, np.nan, 3], [4, 1, 6], [10,2,9],[10,2,9]]",
   "id": "b3372b735405ac0c",
   "execution_count": 82,
   "outputs": []
  },
  {
   "metadata": {
    "ExecuteTime": {
     "end_time": "2024-06-01T02:53:04.586206Z",
     "start_time": "2024-06-01T02:53:04.353206Z"
    }
   },
   "cell_type": "code",
   "source": "from sklearn.impute import SimpleImputer",
   "id": "f282ecfd69514354",
   "execution_count": 83,
   "outputs": []
  },
  {
   "metadata": {
    "ExecuteTime": {
     "end_time": "2024-06-01T02:53:04.601205Z",
     "start_time": "2024-06-01T02:53:04.589207Z"
    }
   },
   "cell_type": "code",
   "source": "imputer = SimpleImputer(strategy='mean')",
   "id": "bed438b687d60f04",
   "execution_count": 84,
   "outputs": []
  },
  {
   "metadata": {
    "ExecuteTime": {
     "end_time": "2024-06-01T02:53:04.617204Z",
     "start_time": "2024-06-01T02:53:04.604206Z"
    }
   },
   "cell_type": "code",
   "source": "imputer.fit(X)",
   "id": "e1f592aaccd52a75",
   "execution_count": 85,
   "outputs": []
  },
  {
   "metadata": {
    "ExecuteTime": {
     "end_time": "2024-06-01T02:53:04.664204Z",
     "start_time": "2024-06-01T02:53:04.655203Z"
    }
   },
   "cell_type": "code",
   "source": "X_ = imputer.transform(X)",
   "id": "d404f0c2a9daa32",
   "execution_count": 86,
   "outputs": []
  },
  {
   "metadata": {
    "ExecuteTime": {
     "end_time": "2024-06-01T02:53:04.834206Z",
     "start_time": "2024-06-01T02:53:04.827205Z"
    }
   },
   "cell_type": "code",
   "source": "X_",
   "id": "b96aff5f05af347c",
   "execution_count": 87,
   "outputs": []
  },
  {
   "metadata": {
    "ExecuteTime": {
     "end_time": "2024-06-01T02:53:05.138086Z",
     "start_time": "2024-06-01T02:53:05.002204Z"
    }
   },
   "cell_type": "code",
   "source": "imputer.inverse_transform(X_)",
   "id": "da8ac0f2ed4454c6",
   "execution_count": 88,
   "outputs": []
  },
  {
   "metadata": {
    "ExecuteTime": {
     "end_time": "2024-06-01T02:53:05.139764Z",
     "start_time": "2024-06-01T02:53:05.139764Z"
    }
   },
   "cell_type": "code",
   "source": "imputer = SimpleImputer(strategy='mean', add_indicator=True)",
   "id": "64753213f64cbc4e",
   "execution_count": null,
   "outputs": []
  },
  {
   "metadata": {
    "ExecuteTime": {
     "end_time": "2024-06-01T02:53:05.308222Z",
     "start_time": "2024-06-01T02:53:05.281224Z"
    }
   },
   "cell_type": "code",
   "source": "imputer.fit(X)",
   "id": "2f5b882313816a0d",
   "execution_count": 89,
   "outputs": []
  },
  {
   "metadata": {
    "ExecuteTime": {
     "end_time": "2024-06-01T02:53:05.386737Z",
     "start_time": "2024-06-01T02:53:05.374739Z"
    }
   },
   "cell_type": "code",
   "source": "X_ = imputer.transform(X)",
   "id": "2b499ecc2c967790",
   "execution_count": 90,
   "outputs": []
  },
  {
   "metadata": {
    "ExecuteTime": {
     "end_time": "2024-06-01T02:53:05.604738Z",
     "start_time": "2024-06-01T02:53:05.570738Z"
    }
   },
   "cell_type": "code",
   "source": "imputer.inverse_transform(X_)",
   "id": "eb4a6e953d63f76d",
   "execution_count": 91,
   "outputs": []
  },
  {
   "metadata": {
    "ExecuteTime": {
     "end_time": "2024-06-01T02:53:05.773740Z",
     "start_time": "2024-06-01T02:53:05.763738Z"
    }
   },
   "cell_type": "code",
   "source": [
    "imputer = SimpleImputer(strategy='most_frequent')\n",
    "imputer.fit_transform(X)"
   ],
   "id": "63f283794290e5cd",
   "execution_count": 92,
   "outputs": []
  },
  {
   "metadata": {
    "ExecuteTime": {
     "end_time": "2024-06-01T02:53:05.865740Z",
     "start_time": "2024-06-01T02:53:05.853740Z"
    }
   },
   "cell_type": "code",
   "source": [
    "imputer = SimpleImputer(strategy='median')\n",
    "imputer.fit_transform(X)"
   ],
   "id": "c517f3be48eb0fdf",
   "execution_count": 93,
   "outputs": []
  },
  {
   "metadata": {
    "ExecuteTime": {
     "end_time": "2024-06-01T02:53:06.158745Z",
     "start_time": "2024-06-01T02:53:06.138742Z"
    }
   },
   "cell_type": "code",
   "source": [
    "imputer = SimpleImputer(strategy='constant', fill_value=-1)\n",
    "imputer.fit_transform(X)"
   ],
   "id": "8f7e8f1fce66441",
   "execution_count": 94,
   "outputs": []
  },
  {
   "metadata": {
    "ExecuteTime": {
     "end_time": "2024-06-01T02:53:06.298738Z",
     "start_time": "2024-06-01T02:53:06.281739Z"
    }
   },
   "cell_type": "code",
   "source": "X = [['dog'], ['dog'], ['cat'], [np.nan]]",
   "id": "15c6b622b87de69b",
   "execution_count": 95,
   "outputs": []
  },
  {
   "metadata": {
    "ExecuteTime": {
     "end_time": "2024-06-01T02:53:06.547255Z",
     "start_time": "2024-06-01T02:53:06.533256Z"
    }
   },
   "cell_type": "code",
   "source": [
    "imputer = SimpleImputer(strategy='most_frequent')\n",
    "imputer.fit_transform(X)"
   ],
   "id": "393b11653b8b5b64",
   "execution_count": 96,
   "outputs": []
  },
  {
   "metadata": {
    "ExecuteTime": {
     "end_time": "2024-06-01T02:53:06.764257Z",
     "start_time": "2024-06-01T02:53:06.755255Z"
    }
   },
   "cell_type": "code",
   "source": [
    "imputer = SimpleImputer(strategy='constant')\n",
    "imputer.fit_transform(X)"
   ],
   "id": "b97da08c12d3f9e3",
   "execution_count": 97,
   "outputs": []
  },
  {
   "metadata": {
    "ExecuteTime": {
     "end_time": "2024-06-01T02:53:06.917776Z",
     "start_time": "2024-06-01T02:53:06.899779Z"
    }
   },
   "cell_type": "code",
   "source": [
    "imputer = SimpleImputer(strategy='constant', fill_value='cat')\n",
    "imputer.fit_transform(X)"
   ],
   "id": "4b9ba72447b3d9f",
   "execution_count": 98,
   "outputs": []
  },
  {
   "metadata": {},
   "cell_type": "markdown",
   "source": "# KNN Imputer",
   "id": "eb3005d2852b6137"
  },
  {
   "metadata": {
    "ExecuteTime": {
     "end_time": "2024-06-01T02:53:07.070778Z",
     "start_time": "2024-06-01T02:53:07.053776Z"
    }
   },
   "cell_type": "code",
   "source": "X = [[np.nan, np.nan, 3], [4, 1, 6], [10,2,9],[10,2,9]]",
   "id": "ee510e157c69b3f5",
   "execution_count": 99,
   "outputs": []
  },
  {
   "metadata": {
    "ExecuteTime": {
     "end_time": "2024-06-01T02:53:07.223781Z",
     "start_time": "2024-06-01T02:53:07.202777Z"
    }
   },
   "cell_type": "code",
   "source": "from sklearn.impute import KNNImputer",
   "id": "b85272e188e9e57f",
   "execution_count": 100,
   "outputs": []
  },
  {
   "metadata": {
    "ExecuteTime": {
     "end_time": "2024-06-01T02:53:07.392785Z",
     "start_time": "2024-06-01T02:53:07.385775Z"
    }
   },
   "cell_type": "code",
   "source": "imputer = KNNImputer(n_neighbors=1)",
   "id": "b967afba12494531",
   "execution_count": 101,
   "outputs": []
  },
  {
   "metadata": {
    "ExecuteTime": {
     "end_time": "2024-06-01T02:53:07.530822Z",
     "start_time": "2024-06-01T02:53:07.517822Z"
    }
   },
   "cell_type": "code",
   "source": "imputer.fit(X)",
   "id": "b91cd7027be6137f",
   "execution_count": 102,
   "outputs": []
  },
  {
   "metadata": {
    "ExecuteTime": {
     "end_time": "2024-06-01T02:53:07.653843Z",
     "start_time": "2024-06-01T02:53:07.641821Z"
    }
   },
   "cell_type": "code",
   "source": "X_ = imputer.transform(X)",
   "id": "e413d13ec0045086",
   "execution_count": 103,
   "outputs": []
  },
  {
   "metadata": {
    "ExecuteTime": {
     "end_time": "2024-06-01T02:53:07.779824Z",
     "start_time": "2024-06-01T02:53:07.764823Z"
    }
   },
   "cell_type": "code",
   "source": "X_",
   "id": "6b9595905c536d71",
   "execution_count": 104,
   "outputs": []
  },
  {
   "metadata": {},
   "cell_type": "markdown",
   "source": "# Feature Selection",
   "id": "da52ae5b3aec70a0"
  },
  {
   "metadata": {},
   "cell_type": "markdown",
   "source": "## Variance Threshold",
   "id": "b9b84f88a9b44caa"
  },
  {
   "metadata": {
    "ExecuteTime": {
     "end_time": "2024-06-01T02:53:07.983820Z",
     "start_time": "2024-06-01T02:53:07.949821Z"
    }
   },
   "cell_type": "code",
   "source": "from sklearn.feature_selection import VarianceThreshold",
   "id": "ad4ebdc37f0336a8",
   "execution_count": 105,
   "outputs": []
  },
  {
   "metadata": {
    "ExecuteTime": {
     "end_time": "2024-06-01T02:53:08.203886Z",
     "start_time": "2024-06-01T02:53:08.183888Z"
    }
   },
   "cell_type": "code",
   "source": [
    "X = [[1, 2, 3], [5, 2, 4], [10, 2.2, 5]]\n",
    "X = pd.DataFrame(X, columns=['A', 'B', 'C'])"
   ],
   "id": "e579212df9c54805",
   "execution_count": 106,
   "outputs": []
  },
  {
   "metadata": {
    "ExecuteTime": {
     "end_time": "2024-06-01T02:53:08.435707Z",
     "start_time": "2024-06-01T02:53:08.421646Z"
    }
   },
   "cell_type": "code",
   "source": "X",
   "id": "ee745c1e26cc0fd7",
   "execution_count": 107,
   "outputs": []
  },
  {
   "metadata": {
    "ExecuteTime": {
     "end_time": "2024-06-01T02:53:08.652876Z",
     "start_time": "2024-06-01T02:53:08.641877Z"
    }
   },
   "cell_type": "code",
   "source": [
    "p = 0.2\n",
    "th = p * (1 - p)\n",
    "selector = VarianceThreshold(threshold=th)"
   ],
   "id": "ac853b7d1694f29f",
   "execution_count": 108,
   "outputs": []
  },
  {
   "metadata": {
    "ExecuteTime": {
     "end_time": "2024-06-01T02:53:08.776877Z",
     "start_time": "2024-06-01T02:53:08.754876Z"
    }
   },
   "cell_type": "code",
   "source": "selector.fit(X)",
   "id": "eb8b2f32bc553670",
   "execution_count": 109,
   "outputs": []
  },
  {
   "metadata": {
    "ExecuteTime": {
     "end_time": "2024-06-01T02:53:08.979862Z",
     "start_time": "2024-06-01T02:53:08.970858Z"
    }
   },
   "cell_type": "code",
   "source": "selector.variances_",
   "id": "5ca5409661d37804",
   "execution_count": 110,
   "outputs": []
  },
  {
   "metadata": {
    "ExecuteTime": {
     "end_time": "2024-06-01T02:53:09.136376Z",
     "start_time": "2024-06-01T02:53:09.115583Z"
    }
   },
   "cell_type": "code",
   "source": "X_ = selector.transform(X)",
   "id": "ea34305159d7803a",
   "execution_count": 111,
   "outputs": []
  },
  {
   "metadata": {
    "ExecuteTime": {
     "end_time": "2024-06-01T02:53:09.463142Z",
     "start_time": "2024-06-01T02:53:09.451144Z"
    }
   },
   "cell_type": "code",
   "source": "X_",
   "id": "8461fc6aebd4a4d5",
   "execution_count": 112,
   "outputs": []
  },
  {
   "metadata": {
    "ExecuteTime": {
     "end_time": "2024-06-01T02:53:09.572142Z",
     "start_time": "2024-06-01T02:53:09.560142Z"
    }
   },
   "cell_type": "code",
   "source": "selector.get_feature_names_out()",
   "id": "25f0f11de2909e5d",
   "execution_count": 113,
   "outputs": []
  },
  {
   "metadata": {},
   "cell_type": "markdown",
   "source": "# Classification",
   "id": "2dd69121e8d9aca1"
  },
  {
   "metadata": {
    "ExecuteTime": {
     "end_time": "2024-06-01T02:53:09.898137Z",
     "start_time": "2024-06-01T02:53:09.777765Z"
    }
   },
   "cell_type": "code",
   "source": [
    "from sklearn.datasets import load_iris\n",
    "from sklearn.feature_selection import SelectKBest, SelectPercentile, GenericUnivariateSelect, \\\n",
    "                                      chi2, f_classif, mutual_info_classif"
   ],
   "id": "373fdb8fa26205e5",
   "execution_count": 114,
   "outputs": []
  },
  {
   "metadata": {
    "ExecuteTime": {
     "end_time": "2024-06-01T02:53:10.006788Z",
     "start_time": "2024-06-01T02:53:09.978661Z"
    }
   },
   "cell_type": "code",
   "source": "X = load_iris(as_frame=True)",
   "id": "9bb44758845e7e72",
   "execution_count": 115,
   "outputs": []
  },
  {
   "metadata": {
    "ExecuteTime": {
     "end_time": "2024-06-01T02:53:10.346636Z",
     "start_time": "2024-06-01T02:53:10.310637Z"
    }
   },
   "cell_type": "code",
   "source": "X.data",
   "id": "6bd86af658d5b26b",
   "execution_count": 116,
   "outputs": []
  },
  {
   "metadata": {
    "ExecuteTime": {
     "end_time": "2024-06-01T02:53:10.548823Z",
     "start_time": "2024-06-01T02:53:10.535823Z"
    }
   },
   "cell_type": "code",
   "source": "X.target",
   "id": "b874cca8452caa05",
   "execution_count": 117,
   "outputs": []
  },
  {
   "metadata": {
    "ExecuteTime": {
     "end_time": "2024-06-01T02:53:10.688768Z",
     "start_time": "2024-06-01T02:53:10.660038Z"
    }
   },
   "cell_type": "code",
   "source": [
    "# score_func = chi2\n",
    "# score_func = f_classif\n",
    "score_func = mutual_info_classif\n",
    "\n",
    "# selector = SelectKBest(score_func=score_func, k=2)\n",
    "selector = GenericUnivariateSelect(score_func=score_func, mode='k_best', param=2)\n",
    "selector.fit(X.data, X.target)\n",
    "print(selector.scores_)\n",
    "print(selector.get_feature_names_out())"
   ],
   "id": "5edad5379cfa393c",
   "execution_count": 118,
   "outputs": []
  },
  {
   "metadata": {
    "ExecuteTime": {
     "end_time": "2024-06-01T02:53:10.921961Z",
     "start_time": "2024-06-01T02:53:10.913962Z"
    }
   },
   "cell_type": "code",
   "source": [
    "score_func = chi2\n",
    "# score_func = f_classif\n",
    "# score_func = mutual_info_classif\n",
    "\n",
    "# selector = SelectPercentile(score_func=score_func, percentile=30)\n",
    "selector = GenericUnivariateSelect(score_func=score_func, mode='percentile', param=30)\n",
    "selector.fit(X.data, X.target)\n",
    "print(selector.scores_)\n",
    "print(selector.get_feature_names_out())"
   ],
   "id": "3712c8972a0e4f8e",
   "execution_count": 119,
   "outputs": []
  },
  {
   "metadata": {
    "ExecuteTime": {
     "end_time": "2024-06-01T02:53:11.089969Z",
     "start_time": "2024-06-01T02:53:11.078965Z"
    }
   },
   "cell_type": "code",
   "source": [
    "score_func = chi2\n",
    "# score_func = f_classif\n",
    "# score_func = mutual_info_classif\n",
    "\n",
    "selector = GenericUnivariateSelect(score_func=score_func, mode='fwe', param=0.05)\n",
    "selector.fit(X.data, X.target)\n",
    "print(selector.scores_)\n",
    "print(selector.pvalues_)\n",
    "print(selector.get_feature_names_out())"
   ],
   "id": "33d77d93144cb552",
   "execution_count": 120,
   "outputs": []
  },
  {
   "metadata": {},
   "cell_type": "markdown",
   "source": "# Regression",
   "id": "41d37c67db27ad66"
  },
  {
   "metadata": {
    "ExecuteTime": {
     "end_time": "2024-06-01T02:53:11.336653Z",
     "start_time": "2024-06-01T02:53:11.323654Z"
    }
   },
   "cell_type": "code",
   "source": "from sklearn.feature_selection import r_regression, f_regression, mutual_info_regression",
   "id": "6734b0077d3ee27f",
   "execution_count": 121,
   "outputs": []
  },
  {
   "metadata": {
    "ExecuteTime": {
     "end_time": "2024-06-01T02:53:11.581372Z",
     "start_time": "2024-06-01T02:53:11.554378Z"
    }
   },
   "cell_type": "code",
   "source": "from sklearn.datasets import load_diabetes",
   "id": "d35691b1e235be6e",
   "execution_count": 122,
   "outputs": []
  },
  {
   "metadata": {
    "ExecuteTime": {
     "end_time": "2024-06-01T02:53:11.814816Z",
     "start_time": "2024-06-01T02:53:11.787815Z"
    }
   },
   "cell_type": "code",
   "source": "X = load_diabetes(as_frame=True)",
   "id": "8eb0d8f6695608aa",
   "execution_count": 123,
   "outputs": []
  },
  {
   "metadata": {
    "ExecuteTime": {
     "end_time": "2024-06-01T02:53:11.984898Z",
     "start_time": "2024-06-01T02:53:11.970894Z"
    }
   },
   "cell_type": "code",
   "source": "X.data",
   "id": "1470716ba1a06868",
   "execution_count": 124,
   "outputs": []
  },
  {
   "metadata": {
    "ExecuteTime": {
     "end_time": "2024-06-01T02:53:12.169574Z",
     "start_time": "2024-06-01T02:53:12.157577Z"
    }
   },
   "cell_type": "code",
   "source": "X.target",
   "id": "4d3dd17def2d197",
   "execution_count": 125,
   "outputs": []
  },
  {
   "metadata": {
    "ExecuteTime": {
     "end_time": "2024-06-01T02:53:12.446841Z",
     "start_time": "2024-06-01T02:53:12.374838Z"
    }
   },
   "cell_type": "code",
   "source": [
    "# score_func = r_regression\n",
    "# score_func = f_regression\n",
    "score_func = mutual_info_regression\n",
    "\n",
    "selector = GenericUnivariateSelect(score_func=score_func, mode='k_best', param=5)\n",
    "selector.fit(X.data, X.target)\n",
    "print(selector.scores_)\n",
    "print(selector.get_feature_names_out())"
   ],
   "id": "7a88c28c43c11d83",
   "execution_count": 126,
   "outputs": []
  },
  {
   "metadata": {
    "ExecuteTime": {
     "end_time": "2024-06-01T02:53:12.570397Z",
     "start_time": "2024-06-01T02:53:12.550402Z"
    }
   },
   "cell_type": "code",
   "source": "eval('r_regression')",
   "id": "88964558166c9e2c",
   "execution_count": 127,
   "outputs": []
  },
  {
   "metadata": {
    "ExecuteTime": {
     "end_time": "2024-06-01T02:53:12.908318Z",
     "start_time": "2024-06-01T02:53:12.897317Z"
    }
   },
   "cell_type": "code",
   "source": "selector.get_support()",
   "id": "ec75d58d43b4b1a5",
   "execution_count": 128,
   "outputs": []
  },
  {
   "metadata": {},
   "cell_type": "markdown",
   "source": "# Feature Importance",
   "id": "5b263bca36a3e80a"
  },
  {
   "metadata": {
    "ExecuteTime": {
     "end_time": "2024-06-01T02:53:13.292652Z",
     "start_time": "2024-06-01T02:53:13.157194Z"
    }
   },
   "cell_type": "code",
   "source": [
    "from sklearn.ensemble import RandomForestClassifier\n",
    "# from sklearn.neighbors import KNeighborsClassifier\n",
    "from sklearn.feature_selection import SelectFromModel"
   ],
   "id": "1b09ee832fa86d77",
   "execution_count": 129,
   "outputs": []
  },
  {
   "metadata": {
    "ExecuteTime": {
     "end_time": "2024-06-01T02:53:13.352652Z",
     "start_time": "2024-06-01T02:53:13.326653Z"
    }
   },
   "cell_type": "code",
   "source": "X = load_iris(as_frame=True)",
   "id": "98ee2bbeaf855a4a",
   "execution_count": 130,
   "outputs": []
  },
  {
   "metadata": {
    "ExecuteTime": {
     "end_time": "2024-06-01T02:53:13.598120Z",
     "start_time": "2024-06-01T02:53:13.586119Z"
    }
   },
   "cell_type": "code",
   "source": "clf = RandomForestClassifier()",
   "id": "282b179aafa7d451",
   "execution_count": 131,
   "outputs": []
  },
  {
   "metadata": {
    "ExecuteTime": {
     "end_time": "2024-06-01T02:53:14.013626Z",
     "start_time": "2024-06-01T02:53:13.883558Z"
    }
   },
   "cell_type": "code",
   "source": "clf.fit(X.data, X.target)",
   "id": "d43aeb386ab93a07",
   "execution_count": 132,
   "outputs": []
  },
  {
   "metadata": {
    "ExecuteTime": {
     "end_time": "2024-06-01T02:53:14.043626Z",
     "start_time": "2024-06-01T02:53:14.019628Z"
    }
   },
   "cell_type": "code",
   "source": "clf.feature_importances_",
   "id": "5a20971d566875db",
   "execution_count": 133,
   "outputs": []
  },
  {
   "metadata": {
    "ExecuteTime": {
     "end_time": "2024-06-01T02:53:14.227804Z",
     "start_time": "2024-06-01T02:53:14.215808Z"
    }
   },
   "cell_type": "code",
   "source": "selector = SelectFromModel(clf, prefit=True)",
   "id": "40ee1a0f4cfacd05",
   "execution_count": 134,
   "outputs": []
  },
  {
   "metadata": {
    "ExecuteTime": {
     "end_time": "2024-06-01T02:53:14.335807Z",
     "start_time": "2024-06-01T02:53:14.308805Z"
    }
   },
   "cell_type": "code",
   "source": "X.data.columns[selector.get_support()]",
   "id": "66cd34c7bbfa0719",
   "execution_count": 135,
   "outputs": []
  },
  {
   "metadata": {},
   "cell_type": "markdown",
   "source": "# Forward",
   "id": "86aaf4123063e23"
  },
  {
   "metadata": {
    "ExecuteTime": {
     "end_time": "2024-06-01T02:53:14.520789Z",
     "start_time": "2024-06-01T02:53:14.508791Z"
    }
   },
   "cell_type": "code",
   "source": [
    "from sklearn.feature_selection import SequentialFeatureSelector\n",
    "from sklearn.neighbors import KNeighborsClassifier"
   ],
   "id": "9f2535fb85b68d01",
   "execution_count": 136,
   "outputs": []
  },
  {
   "metadata": {
    "ExecuteTime": {
     "end_time": "2024-06-01T02:53:14.692131Z",
     "start_time": "2024-06-01T02:53:14.681135Z"
    }
   },
   "cell_type": "code",
   "source": "clf = KNeighborsClassifier(n_neighbors=3)",
   "id": "3b5c301e68b28b24",
   "execution_count": 137,
   "outputs": []
  },
  {
   "metadata": {
    "ExecuteTime": {
     "end_time": "2024-06-01T02:53:15.067667Z",
     "start_time": "2024-06-01T02:53:14.914300Z"
    }
   },
   "cell_type": "code",
   "source": [
    "selector = SequentialFeatureSelector(clf, n_features_to_select='auto', direction='forward')\n",
    "selector.fit(X.data, X.target)\n",
    "print(selector.get_feature_names_out())"
   ],
   "id": "72b31e9229d46923",
   "execution_count": 138,
   "outputs": []
  },
  {
   "metadata": {},
   "cell_type": "markdown",
   "source": "# Backward",
   "id": "5b8a07cc9fcce1d4"
  },
  {
   "metadata": {
    "ExecuteTime": {
     "end_time": "2024-06-01T02:53:15.222391Z",
     "start_time": "2024-06-01T02:53:15.085669Z"
    }
   },
   "cell_type": "code",
   "source": [
    "selector = SequentialFeatureSelector(clf, n_features_to_select='auto', direction='backward')\n",
    "selector.fit(X.data, X.target)\n",
    "print(selector.get_feature_names_out())"
   ],
   "id": "c09353b02aa0287b",
   "execution_count": 139,
   "outputs": []
  },
  {
   "metadata": {},
   "cell_type": "markdown",
   "source": "# Recursive",
   "id": "ada539e1b112e227"
  },
  {
   "metadata": {
    "ExecuteTime": {
     "end_time": "2024-06-01T02:53:15.298191Z",
     "start_time": "2024-06-01T02:53:15.286190Z"
    }
   },
   "cell_type": "code",
   "source": "from sklearn.feature_selection import RFE",
   "id": "b9ca0c2116f9b1f0",
   "execution_count": 140,
   "outputs": []
  },
  {
   "metadata": {
    "ExecuteTime": {
     "end_time": "2024-06-01T02:53:15.559051Z",
     "start_time": "2024-06-01T02:53:15.546049Z"
    }
   },
   "cell_type": "code",
   "source": "clf = RandomForestClassifier()",
   "id": "36a890a5cbc0e2ca",
   "execution_count": 141,
   "outputs": []
  },
  {
   "metadata": {
    "ExecuteTime": {
     "end_time": "2024-06-01T02:53:15.713246Z",
     "start_time": "2024-06-01T02:53:15.701246Z"
    }
   },
   "cell_type": "code",
   "source": "selector = RFE(clf)",
   "id": "4d78e3ab0308937e",
   "execution_count": 142,
   "outputs": []
  },
  {
   "metadata": {
    "ExecuteTime": {
     "end_time": "2024-06-01T02:53:16.344108Z",
     "start_time": "2024-06-01T02:53:15.900838Z"
    }
   },
   "cell_type": "code",
   "source": "selector.fit(X.data, X.target)",
   "id": "3ea4d933886228d5",
   "execution_count": 143,
   "outputs": []
  },
  {
   "metadata": {
    "ExecuteTime": {
     "end_time": "2024-06-01T02:53:16.359107Z",
     "start_time": "2024-06-01T02:53:16.347106Z"
    }
   },
   "cell_type": "code",
   "source": "selector.get_feature_names_out()",
   "id": "cb3a2df022ce01da",
   "execution_count": 144,
   "outputs": []
  },
  {
   "metadata": {},
   "cell_type": "markdown",
   "source": [
    "# Cross-validation (CV)\n",
    "\n",
    "![](https://scikit-learn.org/stable/_images/grid_search_cross_validation.png)"
   ],
   "id": "8c3376901c79d742"
  },
  {
   "metadata": {
    "ExecuteTime": {
     "end_time": "2024-06-01T02:53:16.375106Z",
     "start_time": "2024-06-01T02:53:16.363108Z"
    }
   },
   "cell_type": "code",
   "source": [
    "from sklearn.feature_selection import RFECV\n",
    "from sklearn.model_selection import StratifiedKFold"
   ],
   "id": "28dbf634767b6acc",
   "execution_count": 145,
   "outputs": []
  },
  {
   "metadata": {
    "ExecuteTime": {
     "end_time": "2024-06-01T02:53:19.812047Z",
     "start_time": "2024-06-01T02:53:16.452692Z"
    }
   },
   "cell_type": "code",
   "source": [
    "clf = RandomForestClassifier()\n",
    "\n",
    "selector = RFECV(clf, cv=StratifiedKFold(5), scoring='accuracy', min_features_to_select=1, n_jobs=2)\n",
    "selector.fit(X.data, X.target)\n",
    "print(selector.get_feature_names_out())"
   ],
   "id": "15f9a96c7f6e77d5",
   "execution_count": 146,
   "outputs": []
  },
  {
   "metadata": {},
   "cell_type": "markdown",
   "source": "# Exhaustive (All combinations)",
   "id": "214d1274a23f26b4"
  },
  {
   "metadata": {
    "ExecuteTime": {
     "end_time": "2024-06-01T02:53:19.827048Z",
     "start_time": "2024-06-01T02:53:19.814046Z"
    }
   },
   "cell_type": "code",
   "source": "from itertools import combinations, chain",
   "id": "d79499cfc1e00001",
   "execution_count": 147,
   "outputs": []
  },
  {
   "metadata": {
    "ExecuteTime": {
     "end_time": "2024-06-01T02:53:19.843048Z",
     "start_time": "2024-06-01T02:53:19.832047Z"
    }
   },
   "cell_type": "code",
   "source": [
    "for i in range(1, 5):\n",
    "    for x in combinations([0, 1, 2, 3], i):\n",
    "        print(x)"
   ],
   "id": "5000d211711574dd",
   "execution_count": 148,
   "outputs": []
  },
  {
   "metadata": {
    "ExecuteTime": {
     "end_time": "2024-06-01T02:53:19.859049Z",
     "start_time": "2024-06-01T02:53:19.845049Z"
    }
   },
   "cell_type": "code",
   "source": [
    "n_features = X.data.shape[1]\n",
    "chain.from_iterable(combinations(range(n_features), i) for i in range(1, 5))"
   ],
   "id": "512b08e936b5a557",
   "execution_count": 149,
   "outputs": []
  },
  {
   "metadata": {
    "ExecuteTime": {
     "end_time": "2024-06-01T02:53:19.874047Z",
     "start_time": "2024-06-01T02:53:19.863050Z"
    }
   },
   "cell_type": "code",
   "source": "from sklearn.model_selection import cross_val_score",
   "id": "d043047c64e04900",
   "execution_count": 150,
   "outputs": []
  },
  {
   "metadata": {
    "ExecuteTime": {
     "end_time": "2024-06-01T02:53:19.890051Z",
     "start_time": "2024-06-01T02:53:19.876047Z"
    }
   },
   "cell_type": "code",
   "source": [
    "def EFS(estimator, X, Y, cv=5, verbose=False):\n",
    "    n_features = X.shape[1]\n",
    "    subsets = chain.from_iterable(combinations(range(n_features), i) for i in range(1, 5))\n",
    "    best_score = -np.inf\n",
    "    best_subset = None\n",
    "    for i, subset in enumerate(subsets):\n",
    "        subset = list(subset)\n",
    "        score = cross_val_score(estimator, X.iloc[:, subset], Y, cv=cv).mean()\n",
    "        if score > best_score:\n",
    "            best_score = score\n",
    "            best_subset = subset\n",
    "        if verbose:\n",
    "            print(i, score, subset)\n",
    "    return X.columns[best_subset]"
   ],
   "id": "537c2ce2921d74f8",
   "execution_count": 151,
   "outputs": []
  },
  {
   "metadata": {
    "ExecuteTime": {
     "end_time": "2024-06-01T02:53:20.385328Z",
     "start_time": "2024-06-01T02:53:19.892048Z"
    }
   },
   "cell_type": "code",
   "source": [
    "clf = KNeighborsClassifier(n_neighbors=3)\n",
    "selected = EFS(clf, X.data, X.target, cv=StratifiedKFold(5), verbose=True)\n",
    "print(selected)"
   ],
   "id": "9c3ba73ba3fb678",
   "execution_count": 152,
   "outputs": []
  },
  {
   "metadata": {},
   "cell_type": "markdown",
   "source": "# Feature Union",
   "id": "1b9229f9ed863800"
  },
  {
   "metadata": {
    "ExecuteTime": {
     "end_time": "2024-06-01T02:53:20.400852Z",
     "start_time": "2024-06-01T02:53:20.387854Z"
    }
   },
   "cell_type": "code",
   "source": [
    "from sklearn.decomposition import PCA, TruncatedSVD\n",
    "from sklearn.pipeline import FeatureUnion, make_union\n",
    "from sklearn.datasets import load_iris"
   ],
   "id": "2f6d79691aa79763",
   "execution_count": 153,
   "outputs": []
  },
  {
   "metadata": {
    "ExecuteTime": {
     "end_time": "2024-06-01T02:53:20.415853Z",
     "start_time": "2024-06-01T02:53:20.402852Z"
    }
   },
   "cell_type": "code",
   "source": "X = load_iris(as_frame=True)",
   "id": "201d35f115bfaa75",
   "execution_count": 154,
   "outputs": []
  },
  {
   "metadata": {
    "ExecuteTime": {
     "end_time": "2024-06-01T02:53:20.430852Z",
     "start_time": "2024-06-01T02:53:20.417852Z"
    }
   },
   "cell_type": "code",
   "source": [
    "union = FeatureUnion([\n",
    "    ('pca', PCA(n_components=2)),\n",
    "    ('svd', TruncatedSVD(n_components=1))\n",
    "])\n",
    "\n",
    "# union = make_union(PCA(n_components=2), TruncatedSVD(n_components=1))"
   ],
   "id": "ea92a3cd9f6bc2c3",
   "execution_count": 155,
   "outputs": []
  },
  {
   "metadata": {
    "ExecuteTime": {
     "end_time": "2024-06-01T02:53:20.446851Z",
     "start_time": "2024-06-01T02:53:20.432850Z"
    }
   },
   "cell_type": "code",
   "source": "union",
   "id": "2ecb74d7bebb211d",
   "execution_count": 156,
   "outputs": []
  },
  {
   "metadata": {
    "ExecuteTime": {
     "end_time": "2024-06-01T02:53:20.494850Z",
     "start_time": "2024-06-01T02:53:20.449851Z"
    }
   },
   "cell_type": "code",
   "source": "union.fit_transform(X['data']).shape",
   "id": "12409da06427d77",
   "execution_count": 157,
   "outputs": []
  },
  {
   "metadata": {
    "ExecuteTime": {
     "end_time": "2024-06-01T02:53:20.526853Z",
     "start_time": "2024-06-01T02:53:20.499852Z"
    }
   },
   "cell_type": "code",
   "source": "union.set_params(pca__n_components=1).fit_transform(X['data']).shape",
   "id": "939c1a415075f798",
   "execution_count": 158,
   "outputs": []
  },
  {
   "metadata": {},
   "cell_type": "markdown",
   "source": "# Pipeline",
   "id": "f9d84488ffe2f118"
  },
  {
   "metadata": {
    "ExecuteTime": {
     "end_time": "2024-06-01T02:53:20.542038Z",
     "start_time": "2024-06-01T02:53:20.530853Z"
    }
   },
   "cell_type": "code",
   "source": "from sklearn.pipeline import Pipeline, make_pipeline",
   "id": "b50c08186b2f2c19",
   "execution_count": 159,
   "outputs": []
  },
  {
   "metadata": {
    "ExecuteTime": {
     "end_time": "2024-06-01T02:53:20.557554Z",
     "start_time": "2024-06-01T02:53:20.543553Z"
    }
   },
   "cell_type": "code",
   "source": [
    "from sklearn.preprocessing import MinMaxScaler\n",
    "from sklearn.svm import SVC"
   ],
   "id": "ee996e0936cbed48",
   "execution_count": 160,
   "outputs": []
  },
  {
   "metadata": {
    "ExecuteTime": {
     "end_time": "2024-06-01T02:53:20.573553Z",
     "start_time": "2024-06-01T02:53:20.560558Z"
    }
   },
   "cell_type": "code",
   "source": [
    "pipe = Pipeline([\n",
    "    ('scaler', MinMaxScaler()),\n",
    "    ('union', union),\n",
    "    ('svc', SVC())\n",
    "])\n",
    "\n",
    "# pipe = make_pipeline(MinMaxScaler(), SVC())"
   ],
   "id": "5d49a59ac1bb640d",
   "execution_count": 161,
   "outputs": []
  },
  {
   "metadata": {
    "ExecuteTime": {
     "end_time": "2024-06-01T02:53:20.604743Z",
     "start_time": "2024-06-01T02:53:20.575554Z"
    }
   },
   "cell_type": "code",
   "source": "pipe",
   "id": "9253dd073f7b6cb3",
   "execution_count": 162,
   "outputs": []
  },
  {
   "metadata": {
    "ExecuteTime": {
     "end_time": "2024-06-01T02:53:20.635743Z",
     "start_time": "2024-06-01T02:53:20.605745Z"
    }
   },
   "cell_type": "code",
   "source": "pipe.fit(X['data'], X['target'])",
   "id": "375c493f7e206272",
   "execution_count": 163,
   "outputs": []
  },
  {
   "metadata": {
    "ExecuteTime": {
     "end_time": "2024-06-01T02:53:20.667743Z",
     "start_time": "2024-06-01T02:53:20.637743Z"
    }
   },
   "cell_type": "code",
   "source": "pipe.predict(X['data'])",
   "id": "90d4f772c812a364",
   "execution_count": 164,
   "outputs": []
  },
  {
   "metadata": {
    "ExecuteTime": {
     "end_time": "2024-06-01T02:53:20.682744Z",
     "start_time": "2024-06-01T02:53:20.669745Z"
    }
   },
   "cell_type": "code",
   "source": "pipe.score(X['data'], X['target'])",
   "id": "1e064b38fab531d3",
   "execution_count": 165,
   "outputs": []
  },
  {
   "metadata": {
    "ExecuteTime": {
     "end_time": "2024-06-01T02:53:20.713745Z",
     "start_time": "2024-06-01T02:53:20.683745Z"
    }
   },
   "cell_type": "code",
   "source": "pipe.set_params(svc__kernel='poly')",
   "id": "c475ca058a6f1718",
   "execution_count": 166,
   "outputs": []
  },
  {
   "metadata": {
    "ExecuteTime": {
     "end_time": "2024-06-01T02:53:20.729743Z",
     "start_time": "2024-06-01T02:53:20.715745Z"
    }
   },
   "cell_type": "code",
   "source": [
    "from sklearn.feature_selection import SelectFromModel\n",
    "from sklearn.ensemble import RandomForestClassifier"
   ],
   "id": "bbc8fa3bc791e9fd",
   "execution_count": 167,
   "outputs": []
  },
  {
   "metadata": {
    "ExecuteTime": {
     "end_time": "2024-06-01T02:53:20.745853Z",
     "start_time": "2024-06-01T02:53:20.731743Z"
    }
   },
   "cell_type": "code",
   "source": [
    "pipe = Pipeline([\n",
    "    ('selector', SelectFromModel(RandomForestClassifier())),\n",
    "    ('scaler', MinMaxScaler()),\n",
    "    ('union', union),\n",
    "    ('svc', SVC())\n",
    "])"
   ],
   "id": "96e5f8174b589184",
   "execution_count": 168,
   "outputs": []
  },
  {
   "metadata": {
    "ExecuteTime": {
     "end_time": "2024-06-01T02:53:20.777368Z",
     "start_time": "2024-06-01T02:53:20.747369Z"
    }
   },
   "cell_type": "code",
   "source": "pipe",
   "id": "9fa610d41dbedc2b",
   "execution_count": 169,
   "outputs": []
  },
  {
   "metadata": {},
   "cell_type": "markdown",
   "source": "# save and load",
   "id": "8adc54cd93480161"
  },
  {
   "metadata": {
    "ExecuteTime": {
     "end_time": "2024-06-01T02:53:20.792369Z",
     "start_time": "2024-06-01T02:53:20.781369Z"
    }
   },
   "cell_type": "code",
   "source": "import joblib",
   "id": "13466f65222b098c",
   "execution_count": 170,
   "outputs": []
  },
  {
   "metadata": {
    "ExecuteTime": {
     "end_time": "2024-06-01T02:53:20.869592Z",
     "start_time": "2024-06-01T02:53:20.849594Z"
    }
   },
   "cell_type": "code",
   "source": "joblib.dump(pipe, 'pipe.joblib')",
   "id": "46cf809d57797dc",
   "execution_count": 171,
   "outputs": []
  },
  {
   "metadata": {
    "ExecuteTime": {
     "end_time": "2024-06-01T02:53:21.881620Z",
     "start_time": "2024-06-01T02:53:21.869616Z"
    }
   },
   "cell_type": "code",
   "source": "pipe = joblib.load('pipe.joblib')",
   "id": "1b311ff93cbfeb3a",
   "execution_count": 172,
   "outputs": []
  },
  {
   "metadata": {
    "ExecuteTime": {
     "end_time": "2024-06-01T02:53:23.066666Z",
     "start_time": "2024-06-01T02:53:22.852663Z"
    }
   },
   "cell_type": "code",
   "source": "pipe.fit(X['data'], X['target'])",
   "id": "edcc4359933bac1d",
   "execution_count": 173,
   "outputs": []
  },
  {
   "metadata": {
    "ExecuteTime": {
     "end_time": "2024-06-01T02:53:23.097663Z",
     "start_time": "2024-06-01T02:53:23.070664Z"
    }
   },
   "cell_type": "code",
   "source": "pipe.predict(X['data'])",
   "id": "2073a8d9666bc13d",
   "execution_count": 174,
   "outputs": []
  },
  {
   "metadata": {
    "ExecuteTime": {
     "end_time": "2024-06-01T02:53:23.251661Z",
     "start_time": "2024-06-01T02:53:23.243661Z"
    }
   },
   "cell_type": "code",
   "source": "",
   "id": "759b5d75788b0a34",
   "execution_count": 174,
   "outputs": []
  }
 ],
 "metadata": {
  "kernelspec": {
   "display_name": "Python 3",
   "language": "python",
   "name": "python3"
  },
  "language_info": {
   "codemirror_mode": {
    "name": "ipython",
    "version": 2
   },
   "file_extension": ".py",
   "mimetype": "text/x-python",
   "name": "python",
   "nbconvert_exporter": "python",
   "pygments_lexer": "ipython2",
   "version": "2.7.6"
  }
 },
 "nbformat": 4,
 "nbformat_minor": 5
}
