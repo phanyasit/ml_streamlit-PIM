{
 "cells": [
  {
   "metadata": {
    "ExecuteTime": {
     "end_time": "2024-05-26T05:34:18.212379Z",
     "start_time": "2024-05-26T05:34:18.181360Z"
    }
   },
   "cell_type": "code",
   "source": [
    "import cv2\n",
    "import numpy as np"
   ],
   "id": "191bbfb96e9ecef7",
   "outputs": [],
   "execution_count": 1
  },
  {
   "metadata": {
    "ExecuteTime": {
     "end_time": "2024-05-26T05:35:26.449620Z",
     "start_time": "2024-05-26T05:35:26.427622Z"
    }
   },
   "cell_type": "code",
   "source": [
    "def detect_black_areas(image_path, threshold):\n",
    "  \"\"\"\n",
    "  Detects areas of interest with a high number of black pixels in an image.\n",
    "\n",
    "  Args:\n",
    "      image_path: Path to the image file.\n",
    "      threshold: Minimum number of black pixels for an area to be considered interesting.\n",
    "\n",
    "  Returns:\n",
    "      A list of contours representing the detected areas of interest.\n",
    "  \"\"\"\n",
    "\n",
    "  # Read the image\n",
    "  img = cv2.imread(image_path)\n",
    "\n",
    "  # Convert to grayscale if colored\n",
    "  if len(img.shape) == 3:\n",
    "    img_gray = cv2.cvtColor(img, cv2.COLOR_BGR2GRAY)\n",
    "  else:\n",
    "    img_gray = img.copy()\n",
    "\n",
    "  # Apply thresholding to create a binary image (black and white)\n",
    "  ret, thresh = cv2.threshold(img_gray, threshold, 255, cv2.THRESH_BINARY_INV)\n",
    "\n",
    "  # Find contours (boundaries of connected components)\n",
    "  contours, _ = cv2.findContours(thresh, cv2.RETR_EXTERNAL, cv2.CHAIN_APPROX_SIMPLE)\n",
    "\n",
    "  # Filter contours based on minimum number of black pixels\n",
    "  interesting_contours = []\n",
    "  for cnt in contours:\n",
    "    # Get the area of the contour\n",
    "    area = cv2.contourArea(cnt)\n",
    "    if area > threshold:\n",
    "      interesting_contours.append(cnt)\n",
    "\n",
    "  return interesting_contours"
   ],
   "id": "bdcc2566e8b010e2",
   "outputs": [],
   "execution_count": 2
  },
  {
   "metadata": {
    "ExecuteTime": {
     "end_time": "2024-05-26T05:37:13.807414Z",
     "start_time": "2024-05-26T05:37:13.765414Z"
    }
   },
   "cell_type": "code",
   "source": [
    "# Example usage\n",
    "image_path = \"05.png\"\n",
    "threshold = 1000  # Adjust threshold based on your image\n",
    "\n",
    "interesting_contours = detect_black_areas(image_path, threshold)\n",
    "\n",
    "# You can now draw the contours on the original image for visualization (optional)\n",
    "if len(interesting_contours) > 0:\n",
    "  cv2.drawContours(img, interesting_contours, -1, (0, 0, 255), 2)  # Draw in red color\n",
    "  cv2.imshow(\"Image with Detected Areas\", img)\n",
    "  cv2.waitKey(0)\n",
    "  cv2.destroyAllWindows()\n",
    "else:\n",
    "  print(\"No areas of interest detected.\")"
   ],
   "id": "73cdb75010198264",
   "outputs": [
    {
     "ename": "NameError",
     "evalue": "name 'img' is not defined",
     "output_type": "error",
     "traceback": [
      "\u001B[1;31m---------------------------------------------------------------------------\u001B[0m",
      "\u001B[1;31mNameError\u001B[0m                                 Traceback (most recent call last)",
      "Cell \u001B[1;32mIn[4], line 9\u001B[0m\n\u001B[0;32m      7\u001B[0m \u001B[38;5;66;03m# You can now draw the contours on the original image for visualization (optional)\u001B[39;00m\n\u001B[0;32m      8\u001B[0m \u001B[38;5;28;01mif\u001B[39;00m \u001B[38;5;28mlen\u001B[39m(interesting_contours) \u001B[38;5;241m>\u001B[39m \u001B[38;5;241m0\u001B[39m:\n\u001B[1;32m----> 9\u001B[0m   cv2\u001B[38;5;241m.\u001B[39mdrawContours(\u001B[43mimg\u001B[49m, interesting_contours, \u001B[38;5;241m-\u001B[39m\u001B[38;5;241m1\u001B[39m, (\u001B[38;5;241m0\u001B[39m, \u001B[38;5;241m0\u001B[39m, \u001B[38;5;241m255\u001B[39m), \u001B[38;5;241m2\u001B[39m)  \u001B[38;5;66;03m# Draw in red color\u001B[39;00m\n\u001B[0;32m     10\u001B[0m   cv2\u001B[38;5;241m.\u001B[39mimshow(\u001B[38;5;124m\"\u001B[39m\u001B[38;5;124mImage with Detected Areas\u001B[39m\u001B[38;5;124m\"\u001B[39m, img)\n\u001B[0;32m     11\u001B[0m   cv2\u001B[38;5;241m.\u001B[39mwaitKey(\u001B[38;5;241m0\u001B[39m)\n",
      "\u001B[1;31mNameError\u001B[0m: name 'img' is not defined"
     ]
    }
   ],
   "execution_count": 4
  },
  {
   "metadata": {},
   "cell_type": "code",
   "outputs": [],
   "execution_count": null,
   "source": "",
   "id": "6ccc2cadea8c1e2b"
  }
 ],
 "metadata": {
  "kernelspec": {
   "display_name": "Python 3",
   "language": "python",
   "name": "python3"
  },
  "language_info": {
   "codemirror_mode": {
    "name": "ipython",
    "version": 2
   },
   "file_extension": ".py",
   "mimetype": "text/x-python",
   "name": "python",
   "nbconvert_exporter": "python",
   "pygments_lexer": "ipython2",
   "version": "2.7.6"
  }
 },
 "nbformat": 4,
 "nbformat_minor": 5
}
