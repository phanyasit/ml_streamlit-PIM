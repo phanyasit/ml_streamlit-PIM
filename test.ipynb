{
 "cells": [
  {
   "metadata": {
    "ExecuteTime": {
     "end_time": "2024-05-26T01:04:01.914463Z",
     "start_time": "2024-05-26T01:04:01.722185Z"
    }
   },
   "cell_type": "code",
   "source": [
    "import fitz\n",
    "import os\n",
    "from PIL import Image"
   ],
   "id": "6c88dae5298c0855",
   "outputs": [],
   "execution_count": 30
  },
  {
   "metadata": {
    "ExecuteTime": {
     "end_time": "2024-05-26T04:52:50.247620Z",
     "start_time": "2024-05-26T04:52:50.221405Z"
    }
   },
   "cell_type": "code",
   "source": "file_path = 'Binder1.pdf'",
   "id": "fbfde82f8d9f559d",
   "outputs": [],
   "execution_count": 42
  },
  {
   "metadata": {
    "ExecuteTime": {
     "end_time": "2024-05-26T04:52:50.961925Z",
     "start_time": "2024-05-26T04:52:50.948895Z"
    }
   },
   "cell_type": "code",
   "source": "pdf_file = fitz.open(file_path)",
   "id": "45aa01a322cacb4d",
   "outputs": [],
   "execution_count": 43
  },
  {
   "metadata": {},
   "cell_type": "markdown",
   "source": "# Calculate the number of pages in the PDF",
   "id": "d7c07696b7ba9cf2"
  },
  {
   "metadata": {
    "ExecuteTime": {
     "end_time": "2024-05-26T04:52:53.517873Z",
     "start_time": "2024-05-26T04:52:53.503860Z"
    }
   },
   "cell_type": "code",
   "source": "page_nums = len(pdf_file)",
   "id": "82139ad3e85544f",
   "outputs": [],
   "execution_count": 44
  },
  {
   "metadata": {
    "ExecuteTime": {
     "end_time": "2024-05-26T04:53:09.370303Z",
     "start_time": "2024-05-26T04:53:09.351957Z"
    }
   },
   "cell_type": "code",
   "source": "print(f'The PDF file {file_path} has {page_nums} pages')",
   "id": "2b6c25809f461ff5",
   "outputs": [
    {
     "name": "stdout",
     "output_type": "stream",
     "text": [
      "The PDF file Binder1.pdf has 3 pages\n"
     ]
    }
   ],
   "execution_count": 45
  },
  {
   "metadata": {
    "ExecuteTime": {
     "end_time": "2024-05-26T04:53:18.698946Z",
     "start_time": "2024-05-26T04:53:18.687948Z"
    }
   },
   "cell_type": "code",
   "source": "image_list = []",
   "id": "ac45e36da9e4fdf8",
   "outputs": [],
   "execution_count": 46
  },
  {
   "metadata": {
    "ExecuteTime": {
     "end_time": "2024-05-26T04:53:19.433552Z",
     "start_time": "2024-05-26T04:53:19.418327Z"
    }
   },
   "cell_type": "code",
   "source": [
    "for page_num in range(page_nums):\n",
    "    page_content = pdf_file[page_num]\n",
    "    image_list.extend(page_content.get_images())"
   ],
   "id": "8dc39851882f9000",
   "outputs": [],
   "execution_count": 47
  },
  {
   "metadata": {
    "ExecuteTime": {
     "end_time": "2024-05-26T04:53:20.266639Z",
     "start_time": "2024-05-26T04:53:20.258627Z"
    }
   },
   "cell_type": "code",
   "source": "print(image_list)",
   "id": "83de82c3226b04e6",
   "outputs": [
    {
     "name": "stdout",
     "output_type": "stream",
     "text": [
      "[(34, 0, 1076, 1522, 8, 'ICCBased', '', 'Im0', 'DCTDecode'), (4, 0, 1076, 1522, 8, 'ICCBased', '', 'Im0', 'DCTDecode'), (9, 0, 1076, 1522, 8, 'ICCBased', '', 'Im0', 'DCTDecode')]\n"
     ]
    }
   ],
   "execution_count": 48
  },
  {
   "metadata": {
    "ExecuteTime": {
     "end_time": "2024-05-26T04:53:21.362931Z",
     "start_time": "2024-05-26T04:53:21.349934Z"
    }
   },
   "cell_type": "code",
   "source": [
    "if len(image_list) == 0:\n",
    "    raise ValueError(f'No images found in the PDF file {file_path}')"
   ],
   "id": "2d18a6cf222a5fe6",
   "outputs": [],
   "execution_count": 49
  },
  {
   "metadata": {
    "ExecuteTime": {
     "end_time": "2024-05-26T04:53:22.029064Z",
     "start_time": "2024-05-26T04:53:22.016064Z"
    }
   },
   "cell_type": "code",
   "source": [
    "for i, image in enumerate(image_list, start=1):\n",
    "    xref = image[0]\n",
    "    base_image = pdf_file.extract_image(xref)\n",
    "    image_bytes = base_image[\"image\"]\n",
    "    image_ext = base_image[\"ext\"]\n",
    "    image_name = str(i) + \".\" + image_ext\n",
    "    with open(os.path.join(\"images\", image_name), \"wb\") as image_file:\n",
    "        image_file.write(image_bytes)\n",
    "        image_file.close()"
   ],
   "id": "95196c639549256e",
   "outputs": [],
   "execution_count": 50
  },
  {
   "metadata": {},
   "cell_type": "markdown",
   "source": "#  detect area of interest that have the number of black pixels ",
   "id": "9f7880fe5dd32c1a"
  },
  {
   "metadata": {
    "ExecuteTime": {
     "end_time": "2024-05-26T05:06:20.460056Z",
     "start_time": "2024-05-26T05:06:20.452057Z"
    }
   },
   "cell_type": "code",
   "source": [
    "import cv2 as cv\n",
    "import numpy as np"
   ],
   "id": "9349212c186a4039",
   "outputs": [],
   "execution_count": 7
  },
  {
   "metadata": {
    "ExecuteTime": {
     "end_time": "2024-05-26T05:21:14.429494Z",
     "start_time": "2024-05-26T05:21:08.300024Z"
    }
   },
   "cell_type": "code",
   "source": [
    "img = cv.imread('1.jpeg')\n",
    "cv.imshow('image', img)\n",
    "cv.waitKey(0)\n",
    "cv.destroyAllWindows()"
   ],
   "id": "105f298e54cf380",
   "outputs": [],
   "execution_count": 25
  },
  {
   "metadata": {
    "ExecuteTime": {
     "end_time": "2024-05-26T05:30:25.694533Z",
     "start_time": "2024-05-26T05:30:14.013096Z"
    }
   },
   "cell_type": "code",
   "source": [
    "def find_coord(event, x, y, flags, params):\n",
    "    if event == cv.EVENT_FLAG_LBUTTON:\n",
    "        # left mouse click\n",
    "        print(x,',', y)\n",
    "        \n",
    "        font = cv.FONT_HERSHEY_PLAIN\n",
    "        cv.putText(img, str(x)+','+str(y), (x,y), font, 1, (255,0,0))\n",
    "        \n",
    "        cv.imshow('image', img)\n",
    "\n",
    "if __name__ == \"__main__\":\n",
    "    img = cv.imread('1.jpeg')\n",
    "    \n",
    "    cv.imshow('image', img)\n",
    "    \n",
    "    cv.setMouseCallback('image', find_coord)\n",
    "    cv.waitKey(0)\n",
    "    cv.destroyAllWindows()"
   ],
   "id": "7c260ad8871ec86d",
   "outputs": [
    {
     "name": "stdout",
     "output_type": "stream",
     "text": [
      "804 , 95\n",
      "983 , 141\n",
      "659 , 168\n",
      "1003 , 202\n"
     ]
    }
   ],
   "execution_count": 38
  },
  {
   "metadata": {},
   "cell_type": "code",
   "outputs": [],
   "execution_count": null,
   "source": "",
   "id": "5f458d8d7cb18216"
  }
 ],
 "metadata": {
  "kernelspec": {
   "display_name": "Python 3",
   "language": "python",
   "name": "python3"
  },
  "language_info": {
   "codemirror_mode": {
    "name": "ipython",
    "version": 2
   },
   "file_extension": ".py",
   "mimetype": "text/x-python",
   "name": "python",
   "nbconvert_exporter": "python",
   "pygments_lexer": "ipython2",
   "version": "2.7.6"
  }
 },
 "nbformat": 4,
 "nbformat_minor": 5
}
