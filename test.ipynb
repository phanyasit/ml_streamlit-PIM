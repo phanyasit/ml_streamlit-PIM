{
 "cells": [
  {
   "metadata": {
    "ExecuteTime": {
     "end_time": "2024-05-31T01:54:30.749983Z",
     "start_time": "2024-05-31T01:54:30.625986Z"
    }
   },
   "cell_type": "code",
   "source": [
    "import fitz\n",
    "import os\n",
    "from PIL import Image"
   ],
   "id": "6c88dae5298c0855",
   "outputs": [],
   "execution_count": 1
  },
  {
   "metadata": {
    "ExecuteTime": {
     "end_time": "2024-05-31T01:54:33.286325Z",
     "start_time": "2024-05-31T01:54:33.268196Z"
    }
   },
   "cell_type": "code",
   "source": "file_path = 'Binder1.pdf'",
   "id": "fbfde82f8d9f559d",
   "outputs": [],
   "execution_count": 2
  },
  {
   "metadata": {
    "ExecuteTime": {
     "end_time": "2024-05-31T01:54:34.766260Z",
     "start_time": "2024-05-31T01:54:34.728258Z"
    }
   },
   "cell_type": "code",
   "source": "pdf_file = fitz.open(file_path)",
   "id": "45aa01a322cacb4d",
   "outputs": [],
   "execution_count": 3
  },
  {
   "metadata": {},
   "cell_type": "markdown",
   "source": "# Calculate the number of pages in the PDF",
   "id": "d7c07696b7ba9cf2"
  },
  {
   "metadata": {
    "ExecuteTime": {
     "end_time": "2024-05-31T01:54:36.632959Z",
     "start_time": "2024-05-31T01:54:36.619957Z"
    }
   },
   "cell_type": "code",
   "source": "page_nums = len(pdf_file)",
   "id": "82139ad3e85544f",
   "outputs": [],
   "execution_count": 4
  },
  {
   "metadata": {
    "ExecuteTime": {
     "end_time": "2024-05-31T01:54:37.332230Z",
     "start_time": "2024-05-31T01:54:37.324231Z"
    }
   },
   "cell_type": "code",
   "source": "print(f'The PDF file {file_path} has {page_nums} pages')",
   "id": "2b6c25809f461ff5",
   "outputs": [
    {
     "name": "stdout",
     "output_type": "stream",
     "text": [
      "The PDF file Binder1.pdf has 3 pages\n"
     ]
    }
   ],
   "execution_count": 5
  },
  {
   "metadata": {
    "ExecuteTime": {
     "end_time": "2024-05-31T01:54:38.251004Z",
     "start_time": "2024-05-31T01:54:38.248003Z"
    }
   },
   "cell_type": "code",
   "source": "image_list = []",
   "id": "ac45e36da9e4fdf8",
   "outputs": [],
   "execution_count": 6
  },
  {
   "metadata": {
    "ExecuteTime": {
     "end_time": "2024-05-31T01:54:39.189682Z",
     "start_time": "2024-05-31T01:54:39.166439Z"
    }
   },
   "cell_type": "code",
   "source": [
    "for page_num in range(page_nums):\n",
    "    page_content = pdf_file[page_num]\n",
    "    image_list.extend(page_content.get_images())"
   ],
   "id": "8dc39851882f9000",
   "outputs": [],
   "execution_count": 7
  },
  {
   "metadata": {
    "ExecuteTime": {
     "end_time": "2024-05-31T01:54:40.178947Z",
     "start_time": "2024-05-31T01:54:40.174965Z"
    }
   },
   "cell_type": "code",
   "source": "print(image_list)",
   "id": "83de82c3226b04e6",
   "outputs": [
    {
     "name": "stdout",
     "output_type": "stream",
     "text": [
      "[(34, 0, 1076, 1522, 8, 'ICCBased', '', 'Im0', 'DCTDecode'), (4, 0, 1076, 1522, 8, 'ICCBased', '', 'Im0', 'DCTDecode'), (9, 0, 1076, 1522, 8, 'ICCBased', '', 'Im0', 'DCTDecode')]\n"
     ]
    }
   ],
   "execution_count": 8
  },
  {
   "metadata": {
    "ExecuteTime": {
     "end_time": "2024-05-31T01:54:41.052959Z",
     "start_time": "2024-05-31T01:54:41.033946Z"
    }
   },
   "cell_type": "code",
   "source": [
    "if len(image_list) == 0:\n",
    "    raise ValueError(f'No images found in the PDF file {file_path}')"
   ],
   "id": "2d18a6cf222a5fe6",
   "outputs": [],
   "execution_count": 9
  },
  {
   "metadata": {
    "ExecuteTime": {
     "end_time": "2024-05-31T01:54:43.127558Z",
     "start_time": "2024-05-31T01:54:43.099464Z"
    }
   },
   "cell_type": "code",
   "source": [
    "for i, image in enumerate(image_list, start=1):\n",
    "    xref = image[0]\n",
    "    base_image = pdf_file.extract_image(xref)\n",
    "    image_bytes = base_image[\"image\"]\n",
    "    image_ext = base_image[\"ext\"]\n",
    "    image_name = str(i) + \".\" + image_ext\n",
    "    with open(os.path.join(\"images\", image_name), \"wb\") as image_file:\n",
    "        image_file.write(image_bytes)\n",
    "        image_file.close()"
   ],
   "id": "95196c639549256e",
   "outputs": [],
   "execution_count": 10
  },
  {
   "metadata": {},
   "cell_type": "markdown",
   "source": "#  detect area of interest that have the number of black pixels ",
   "id": "9f7880fe5dd32c1a"
  },
  {
   "metadata": {
    "ExecuteTime": {
     "end_time": "2024-05-31T01:54:46.596436Z",
     "start_time": "2024-05-31T01:54:46.537310Z"
    }
   },
   "cell_type": "code",
   "source": [
    "import cv2 as cv\n",
    "import numpy as np"
   ],
   "id": "9349212c186a4039",
   "outputs": [],
   "execution_count": 11
  },
  {
   "metadata": {
    "ExecuteTime": {
     "end_time": "2024-05-31T01:54:59.396260Z",
     "start_time": "2024-05-31T01:54:47.125457Z"
    }
   },
   "cell_type": "code",
   "source": [
    "img = cv.imread('1.jpeg')\n",
    "cv.imshow('image', img)\n",
    "cv.waitKey(0)\n",
    "cv.destroyAllWindows()"
   ],
   "id": "105f298e54cf380",
   "outputs": [],
   "execution_count": 12
  },
  {
   "metadata": {
    "ExecuteTime": {
     "end_time": "2024-05-31T01:57:40.878674Z",
     "start_time": "2024-05-31T01:57:26.844109Z"
    }
   },
   "cell_type": "code",
   "source": [
    "def find_coord(event, x, y, flags, params):\n",
    "    if event == cv.EVENT_FLAG_LBUTTON:\n",
    "        # left mouse click\n",
    "        print(x,',', y)\n",
    "        \n",
    "        font = cv.FONT_HERSHEY_PLAIN\n",
    "        cv.putText(img, str(x)+','+str(y), (x,y), font, 1, (255,0,0))\n",
    "        \n",
    "        cv.imshow('image', img)\n",
    "\n",
    "if __name__ == \"__main__\":\n",
    "    img = cv.imread('1.jpeg')\n",
    "    imgresize = cv.resize(img, (566, 800))\n",
    "    \n",
    "    cv.imshow('image', imgresize)\n",
    "    \n",
    "    cv.setMouseCallback('image', find_coord)\n",
    "    cv.waitKey(0)\n",
    "    cv.destroyAllWindows()"
   ],
   "id": "7c260ad8871ec86d",
   "outputs": [
    {
     "name": "stdout",
     "output_type": "stream",
     "text": [
      "422 , 49\n",
      "807 , 99\n",
      "991 , 142\n"
     ]
    }
   ],
   "execution_count": 17
  },
  {
   "metadata": {},
   "cell_type": "code",
   "outputs": [],
   "execution_count": null,
   "source": "",
   "id": "5f458d8d7cb18216"
  }
 ],
 "metadata": {
  "kernelspec": {
   "display_name": "Python 3",
   "language": "python",
   "name": "python3"
  },
  "language_info": {
   "codemirror_mode": {
    "name": "ipython",
    "version": 2
   },
   "file_extension": ".py",
   "mimetype": "text/x-python",
   "name": "python",
   "nbconvert_exporter": "python",
   "pygments_lexer": "ipython2",
   "version": "2.7.6"
  }
 },
 "nbformat": 4,
 "nbformat_minor": 5
}
